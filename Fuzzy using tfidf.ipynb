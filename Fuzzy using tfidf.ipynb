{
 "cells": [
  {
   "cell_type": "code",
   "execution_count": 2,
   "id": "7dbba60f",
   "metadata": {},
   "outputs": [
    {
     "name": "stdout",
     "output_type": "stream",
     "text": [
      "       Match Confidence            Original Name   Lookup 1\n",
      "1                  0.93              Necessities  necessity\n",
      "74215              0.93  Necessities Salon & Spa  necessity\n",
      "Fuzzy string matching in 1.7974379062652588 seconds\n"
     ]
    }
   ],
   "source": [
    "import tfidf_matcher as tm\n",
    "import pandas as pd\n",
    "import time\n",
    "\n",
    "\n",
    "# Test the function\n",
    "path = \"/Users/Madhur.Telang/Downloads/FuzzyDoorsData.xlsx\"\n",
    "xl = pd.read_excel(path)\n",
    "xl_list = xl['Name'].astype(str).values.tolist()\n",
    "\n",
    "\n",
    "start = time.time()\n",
    "\n",
    "to_list = [\"necessity\",\"\"]\n",
    "#for k in range(1, len(to_list)):\n",
    "results = tm.matcher(xl_list, to_list, k_matches = 1,ngram_length = 3)\n",
    "\n",
    "results = results[results['Match Confidence'] > 0.80]\n",
    "print(results)\n",
    "\n",
    "end = time.time()\n",
    "# Print the computation time\n",
    "print('Fuzzy string matching in {} seconds'.format(end - start))\n",
    "\n",
    "\n",
    "\n"
   ]
  },
  {
   "cell_type": "code",
   "execution_count": null,
   "id": "216f5334",
   "metadata": {},
   "outputs": [],
   "source": []
  }
 ],
 "metadata": {
  "kernelspec": {
   "display_name": "Python 3 (ipykernel)",
   "language": "python",
   "name": "python3"
  },
  "language_info": {
   "codemirror_mode": {
    "name": "ipython",
    "version": 3
   },
   "file_extension": ".py",
   "mimetype": "text/x-python",
   "name": "python",
   "nbconvert_exporter": "python",
   "pygments_lexer": "ipython3",
   "version": "3.11.1"
  }
 },
 "nbformat": 4,
 "nbformat_minor": 5
}
